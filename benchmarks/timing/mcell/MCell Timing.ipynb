{
 "cells": [
  {
   "cell_type": "code",
   "execution_count": 29,
   "metadata": {
    "ExecuteTime": {
     "end_time": "2020-10-27T03:46:08.012005Z",
     "start_time": "2020-10-27T03:46:08.009228Z"
    }
   },
   "outputs": [],
   "source": [
    "import glob\n",
    "import os\n",
    "from statistics import mean, stdev"
   ]
  },
  {
   "cell_type": "code",
   "execution_count": 39,
   "metadata": {
    "ExecuteTime": {
     "end_time": "2020-10-27T03:52:49.856133Z",
     "start_time": "2020-10-27T03:52:49.851119Z"
    }
   },
   "outputs": [],
   "source": [
    "def mcell_sim_times(fname):\n",
    "    sim_times = []\n",
    "    path = os.path.join('.', fname, 'mcell/output_data/qsub_mcell*.out')\n",
    "    for file in glob.glob(path):\n",
    "        with open(file) as f:\n",
    "            times = f.readlines()\n",
    "            \n",
    "            for t in times:\n",
    "                if 'Simulation' in t:\n",
    "                    sim_times.append(float(t.split()[4]))\n",
    "                    \n",
    "    print(\"{:.2f}\".format(mean(sim_times)), u\"\\u00B1\", \"{:.2}\".format(stdev(sim_times)), 's for', len(sim_times), 'trials of', fname.strip('./'))\n"
   ]
  },
  {
   "cell_type": "code",
   "execution_count": 40,
   "metadata": {
    "ExecuteTime": {
     "end_time": "2020-10-27T03:52:50.437331Z",
     "start_time": "2020-10-27T03:52:50.393389Z"
    }
   },
   "outputs": [
    {
     "name": "stdout",
     "output_type": "stream",
     "text": [
      "29.34 ± 0.39 s for 1000 trials of model_1_calbindin_files\n"
     ]
    }
   ],
   "source": [
    "mcell_sim_times('model_1_calbindin_files')"
   ]
  },
  {
   "cell_type": "code",
   "execution_count": 41,
   "metadata": {
    "ExecuteTime": {
     "end_time": "2020-10-27T03:55:08.573258Z",
     "start_time": "2020-10-27T03:55:08.479720Z"
    }
   },
   "outputs": [
    {
     "name": "stdout",
     "output_type": "stream",
     "text": [
      "139.20 ± 7.0 s for 1000 trials of model_1_vdcc_files\n"
     ]
    }
   ],
   "source": [
    "mcell_sim_times('model_1_vdcc_files')"
   ]
  },
  {
   "cell_type": "code",
   "execution_count": null,
   "metadata": {},
   "outputs": [],
   "source": []
  }
 ],
 "metadata": {
  "kernelspec": {
   "display_name": "Python 3",
   "language": "python",
   "name": "python3"
  },
  "language_info": {
   "codemirror_mode": {
    "name": "ipython",
    "version": 3
   },
   "file_extension": ".py",
   "mimetype": "text/x-python",
   "name": "python",
   "nbconvert_exporter": "python",
   "pygments_lexer": "ipython3",
   "version": "3.8.3"
  },
  "varInspector": {
   "cols": {
    "lenName": 16,
    "lenType": 16,
    "lenVar": 40
   },
   "kernels_config": {
    "python": {
     "delete_cmd_postfix": "",
     "delete_cmd_prefix": "del ",
     "library": "var_list.py",
     "varRefreshCmd": "print(var_dic_list())"
    },
    "r": {
     "delete_cmd_postfix": ") ",
     "delete_cmd_prefix": "rm(",
     "library": "var_list.r",
     "varRefreshCmd": "cat(var_dic_list()) "
    }
   },
   "types_to_exclude": [
    "module",
    "function",
    "builtin_function_or_method",
    "instance",
    "_Feature"
   ],
   "window_display": false
  }
 },
 "nbformat": 4,
 "nbformat_minor": 4
}
