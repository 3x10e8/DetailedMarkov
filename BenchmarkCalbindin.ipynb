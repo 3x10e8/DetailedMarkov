{
 "cells": [
  {
   "cell_type": "code",
   "execution_count": 1,
   "metadata": {
    "ExecuteTime": {
     "end_time": "2020-09-18T17:17:52.408772Z",
     "start_time": "2020-09-18T17:17:52.237299Z"
    }
   },
   "outputs": [
    {
     "name": "stdout",
     "output_type": "stream",
     "text": [
      "1.1153003318628334e-05\n"
     ]
    }
   ],
   "source": [
    "# import packages\n",
    "import matplotlib.pyplot as plt\n",
    "import numpy as np\n",
    "#from numpy.random import multinomial\n",
    "\n",
    "'''Constants'''\n",
    "AVAGADRO = 6.022e23  # avagadro's number\n",
    "# Axon dimensions\n",
    "AXON_R = 0.25        # micron\n",
    "AXON_L = 4           # micron\n",
    "MICRON_TO_L = 1e-15  # unit conversion\n",
    "AXON_VOL = np.pi * (AXON_R ** 2) * AXON_L * MICRON_TO_L  # liters\n",
    "# Calcium\n",
    "N_CA_AP = 5275       # action potential\n",
    "CONC_CA_BASE = 1e-7  # ss calcium concentration\n",
    "N_CA_BASE = int(round(AXON_VOL * CONC_CA_BASE * AVAGADRO))\n",
    "N_CA = N_CA_AP + N_CA_BASE\n",
    "CONC_CA_AP = N_CA_AP / AXON_VOL / AVAGADRO\n",
    "print(CONC_CA_AP)\n",
    "# Calbindin\n",
    "CONC_CALB = 45e-6    # M\n",
    "N_CALB = int(round(AXON_VOL * CONC_CALB * AVAGADRO))"
   ]
  },
  {
   "cell_type": "code",
   "execution_count": 2,
   "metadata": {
    "ExecuteTime": {
     "end_time": "2020-09-18T17:17:56.132166Z",
     "start_time": "2020-09-18T17:17:56.127597Z"
    }
   },
   "outputs": [],
   "source": [
    "def diffusion_3d(r, t, diff_const, impulse=1, t0=0, r0=0):\n",
    "    '''\n",
    "    Gaussian diffusive kernel for 3d diffusion in an infinite half space, where\n",
    "     reflection occurs.\n",
    "     r: radius values of interest\n",
    "     t: time values of interest\n",
    "     diff_const: calcium diffusion constant\n",
    "     impulse:   impulse injection at t0\n",
    "     t0: time of impulse (relative time)\n",
    "     r0: location of impulse (relative location)\n",
    "    b:   position of the center of the peak\n",
    "    c:   standard deviation; width of bell\n",
    "    x:   input vector\n",
    "    '''\n",
    "\n",
    "    reflection_factor = 2    # accounts for reflection on z-axis\n",
    "    diff_3d = 3/2            # accounts for this being 3d diffusion\n",
    "\n",
    "    input = reflection_factor*impulse\n",
    "    norm_term = (4 * np.pi * diff_const * (t - t0))**(diff_3d)\n",
    "    exp_term = -((r - r0) ** 2) / (4 * diff_const * (t - t0))\n",
    "\n",
    "    return (input / norm_term) * np.exp(exp_term)"
   ]
  },
  {
   "cell_type": "code",
   "execution_count": 7,
   "metadata": {
    "ExecuteTime": {
     "end_time": "2020-09-18T17:22:07.886809Z",
     "start_time": "2020-09-18T17:22:07.846655Z"
    }
   },
   "outputs": [],
   "source": [
    "def calb_markov(n_calb, n_ca, trange, dt):\n",
    "    '''\n",
    "    Simulates a Markov process for the stochastic opening and closing of channels using\n",
    "    multinomial sampling.\n",
    "\n",
    "    @param n_calb (int) - number of calbindin to model\n",
    "    @param n_ca (int) - initial number of calcium\n",
    "    @param trange (int/float array) - array over which the simulation takes place\n",
    "    @param dt (int/float) - time step\n",
    "\n",
    "    @return n_per_state (int array) - number of channels in each state at each time point (shape: [trange, n_states])\n",
    "    @return ca (int array) - number of calcium that enters at each time point (shape: [trange])\n",
    "    @return ca_sum (int array) - total sum of calcium that has entered at that time (shape: [trange])\n",
    "    '''\n",
    "\n",
    "    '''Constants'''\n",
    "    idx_t0 = 0  # initial conditions index\n",
    "    n_states = 9  # number of calbindin states\n",
    "\n",
    "    '''Transition rates'''\n",
    "    # From postsynaptic model paper\n",
    "    two_bind_sites = 2  # factor for two open binding sites\n",
    "    k_med_forw = 8.7e7  # medium affinity forward binding (1/Ms)\n",
    "    k_med_rev = 35.8  # medium affinity reverse binding (1/s)\n",
    "    k_high_forw = 1.1e7  # high affinity forward binding (1/Ms)\n",
    "    k_high_rev = 2.6  # high affinity reverse binding (1/s)\n",
    "\n",
    "    # Convert 1/M s to #/s\n",
    "    k_med_forw = k_med_forw / (AVAGADRO * AXON_VOL)\n",
    "    k_high_forw = k_high_forw / (AVAGADRO * AXON_VOL)\n",
    "\n",
    "    # k_m0m1, k_m1m2, k_m1m0, k_m2m1, k_h0h1, k_h1h2, k_h1h0, k_h2h1\n",
    "    #   0       1       2       3       4       5       6       7\n",
    "    k = [two_bind_sites * k_med_forw,  # k[0] = k_M0M1\n",
    "         k_med_forw,  # k[1] = k_M1M2\n",
    "         k_med_rev,  # k[2] = k_M1M0\n",
    "         two_bind_sites * k_med_rev,  # k[3] = k_M2M1\n",
    "         two_bind_sites * k_high_forw,  # k[4] = k_H0H1\n",
    "         k_high_forw,  # k[5] = k_H1H2\n",
    "         k_high_rev,  # k[6] = k_H1H0\n",
    "         two_bind_sites * k_high_rev]  # k[7] = k_H2H1\n",
    "\n",
    "    # binding and unbinding for each state\n",
    "    # h0m0,  h0m1,  h0m2,  h1m0,  h1m1,  h1m2,  h2m0,  h2m1,  h2m2\n",
    "    #   0     1      2      3      4      5      6      7      8\n",
    "    k_bind = np.array([k[0] + k[4], k[1] + k[4], k[4],\n",
    "                       k[0] + k[5], k[1] + k[5], k[5],\n",
    "                       k[0], k[1], 0])\n",
    "\n",
    "    k_unbind = np.array([0, k[2], k[3],\n",
    "                         k[6], k[2] + k[6], k[3] + k[6],\n",
    "                         k[7], k[2] + k[7], k[3] + k[7]])\n",
    "\n",
    "    '''Effect of transitions on calcium'''\n",
    "    delta_ca = np.zeros((n_states, n_states))\n",
    "    n_state_cols = 3\n",
    "    ca_loss = -1\n",
    "    ca_gain = 1\n",
    "    off_center_shift = 1\n",
    "    no_remain = 0\n",
    "\n",
    "    for row in range(n_states):\n",
    "        for col in range(n_states):\n",
    "            if (row + n_state_cols) < n_states:\n",
    "                delta_ca[row, row + n_state_cols] = ca_loss\n",
    "                delta_ca[row + n_state_cols, row] = ca_gain\n",
    "            if (row + off_center_shift) < n_states and (row + off_center_shift) % n_state_cols != no_remain:\n",
    "                delta_ca[row, row + off_center_shift] = ca_loss\n",
    "                delta_ca[row + off_center_shift, row] = ca_gain\n",
    "\n",
    "    '''Set initial conditions for all states'''\n",
    "    # Initializing states\n",
    "    n_per_state = np.zeros((len(trange), n_states), dtype=int)\n",
    "    ca = np.zeros(len(trange), dtype=int)\n",
    "    sum_k_bind = np.zeros(len(trange))\n",
    "    sum_k_unbind = np.zeros(len(trange))\n",
    "\n",
    "    # Initial amount of calbindin\n",
    "    # Channels start in ss\n",
    "    # h0m0,  h0m1,  h0m2,  h1m0,  h1m1,  h1m2,  h2m0,  h2m1,  h2m2\n",
    "    #   0     1      2      3      4      5      6      7      8\n",
    "    calb_frac = np.array([0.31958713, 0.15533006, 0.0188739,\n",
    "                          0.27041988, 0.13143312, 0.01597023,\n",
    "                          0.0572042, 0.02780316, 0.00337832])  # initial fraction of each calb\n",
    "\n",
    "    n_per_state[idx_t0, :] = n_calb * calb_frac\n",
    "    #print(\"Starting calbindin states:\", n_per_state[idx_t0, :])\n",
    "\n",
    "    # Initial amount of calcium\n",
    "    ca[idx_t0] = n_ca\n",
    "    #print(\"Starting calcium number:\", ca[idx_t0])\n",
    "\n",
    "    '''Simulation'''\n",
    "    step = 1\n",
    "    # All time points except last state\n",
    "    for t_i in range(len(trange) - 1):\n",
    "        # k_m0m1, k_m1m2, k_m1m0, k_m2m1, k_h0h1, k_h1h2, k_h1h0, k_h2h1\n",
    "        #    0      1        2        3      4       5       6       7\n",
    "        sum_k_bind[t_i] = np.sum(np.multiply((n_per_state[t_i]/N_CALB), k_bind))\n",
    "        sum_k_unbind[t_i] = np.sum(np.multiply(n_per_state[t_i]/N_CALB, k_unbind))\n",
    "\n",
    "        # transition probabilities\n",
    "        p = np.array(\n",
    "            [[1 - (k[0] * ca[t_i] * dt + k[4] * ca[t_i] * dt), k[0] * ca[t_i] * dt, 0, k[4] * ca[t_i] * dt, 0,\n",
    "              0, 0, 0, 0],\n",
    "\n",
    "             [k[2] * dt, 1 - (k[2] * dt + k[1] * ca[t_i] * dt + k[4] * ca[t_i] * dt), k[1] * ca[t_i] * dt, 0,\n",
    "              k[4] * ca[t_i] * dt, 0, 0, 0, 0],\n",
    "\n",
    "             [0, k[3] * dt, 1 - (k[3] * dt + k[4] * ca[t_i] * dt), 0, 0, k[4] * ca[t_i] * dt, 0, 0, 0],\n",
    "\n",
    "             [k[6] * dt, 0, 0, 1 - (k[6] * dt + k[0] * ca[t_i] * dt + k[5] * ca[t_i] * dt),\n",
    "              k[0] * ca[t_i] * dt, 0, k[5] * ca[t_i] * dt, 0, 0],\n",
    "\n",
    "             [0, k[6] * dt, 0, k[2] * dt,\n",
    "              1 - (k[6] * dt + k[2] * dt + k[1] * ca[t_i] * dt + k[5] * ca[t_i] * dt), k[1] * ca[t_i] * dt, 0,\n",
    "              k[5] * ca[t_i] * dt, 0],\n",
    "\n",
    "             [0, 0, k[6] * dt, 0, k[3] * dt, 1 - (k[6] * dt + k[3] * dt + k[5] * ca[t_i] * dt), 0, 0,\n",
    "              k[5] * ca[t_i] * dt],\n",
    "\n",
    "             [0, 0, 0, k[7] * dt, 0, 0, 1 - (k[7] * dt + k[0] * ca[t_i] * dt), k[0] * ca[t_i] * dt, 0],\n",
    "\n",
    "             [0, 0, 0, 0, k[7] * dt, 0, k[2] * dt, 1 - (k[7] * dt + k[2] * dt + k[1] * ca[t_i] * dt),\n",
    "              k[1] * ca[t_i] * dt],\n",
    "\n",
    "             [0, 0, 0, 0, 0, k[7] * dt, 0, k[3] * dt, 1 - (k[7] * dt + k[3] * dt)]])\n",
    "\n",
    "        # Samples from multinomial distribution\n",
    "        # the drawn samples = np.random.multinomial(n experiments, (p)robabilities)\n",
    "        # determine the number at the next time point\n",
    "        sample = np.zeros((n_states, n_states))\n",
    "\n",
    "        # Draw a transition sample from each state\n",
    "        for i in range(n_states):\n",
    "            sample[i, :] = np.random.multinomial(n_per_state[t_i, i], p[i])\n",
    "\n",
    "        # Sum samples for each state from all states to get total number of calbindin\n",
    "        # in each state at the next time point\n",
    "        n_per_state[t_i + step, :] = np.sum(sample, axis=0)\n",
    "\n",
    "        # Multiple sample by calcium change matrix and sum all calcium changes to get overall change\n",
    "        ca[t_i + step] = ca[t_i] + np.sum(np.multiply(sample, delta_ca))\n",
    "\n",
    "    return n_per_state, ca, sum_k_bind, sum_k_unbind\n"
   ]
  },
  {
   "cell_type": "code",
   "execution_count": null,
   "metadata": {},
   "outputs": [],
   "source": [
    "# Run for 5ms simulation\n",
    "dt = 1e-6\n",
    "t_stop = 5e-3\n",
    "t_start = 0\n",
    "t_range = np.arange(t_start, t_stop + dt, dt)\n",
    "#print(t_range)\n",
    "n_per_state, ca, k_bind, k_unbind = calb_markov(N_CALB, N_CA, t_range, dt)\n",
    "print(ca)"
   ]
  },
  {
   "cell_type": "code",
   "execution_count": 4,
   "metadata": {
    "ExecuteTime": {
     "end_time": "2020-09-18T17:20:13.716468Z",
     "start_time": "2020-09-18T17:20:11.396381Z"
    }
   },
   "outputs": [
    {
     "name": "stdout",
     "output_type": "stream",
     "text": [
      "Starting calbindin states: [6802 3306  401 5755 2797  339 1217  591   71]\n",
      "Starting calcium number: 5322\n",
      "[5322 5284 5248 ...   83   83   83]\n"
     ]
    }
   ],
   "source": [
    "# Run for 10ms simulation\n",
    "dt = 1e-6\n",
    "t_stop = 0.01\n",
    "t_start = 0\n",
    "t_range = np.arange(t_start, t_stop + dt, dt)\n",
    "#print(t_range)\n",
    "n_per_state, ca, k_bind, k_unbind = calb_markov(N_CALB, N_CA, t_range, dt)\n",
    "print(ca)"
   ]
  },
  {
   "cell_type": "code",
   "execution_count": 10,
   "metadata": {
    "ExecuteTime": {
     "end_time": "2020-09-18T17:24:19.711430Z",
     "start_time": "2020-09-18T17:23:58.792628Z"
    }
   },
   "outputs": [
    {
     "name": "stdout",
     "output_type": "stream",
     "text": [
      "2.09 s ± 57.5 ms per loop (mean ± std. dev. of 10 runs, 1 loop each)\n"
     ]
    }
   ],
   "source": [
    "# Benchmark 10ms simulation\n",
    "dt = 1e-6\n",
    "t_stop = 0.01\n",
    "t_start = 0\n",
    "t_range = np.arange(t_start, t_stop + dt, dt)\n",
    "%timeit -n 1 -r 10 calb_markov(N_CALB, N_CA, t_range, dt)"
   ]
  },
  {
   "cell_type": "code",
   "execution_count": null,
   "metadata": {},
   "outputs": [],
   "source": [
    "# Gaussian kernel\n",
    "r, r_step = np.linspace(-4, 4, 100, retstep=True)    # um\n",
    "#print(t_range[1000:]*1000)    # ms\n",
    "d_cm2_s = 2.2e-6    # cm^2/s\n",
    "d_um2_ms = d_cm2_s * ((10**6)**2) / 1000 / (100**2)    # um^2/ms\n",
    "r0 = 0.21    # um\n",
    "t0 = 0       # ms\n",
    "#ca = 1    # number of ca\n",
    "\n",
    "for i in range(len(ca)-100):\n",
    "    if i%50==0:\n",
    "        amount_of_ca = (2 / 3) * \\\n",
    "                       np.pi * (r_step ** 3) * \\\n",
    "                       diffusion_3d(r, t_range[i+100]*1000, d_um2_ms,\n",
    "                                    ca[i+100]/N_CA, t0, t0)\n",
    "        plt.plot(r, amount_of_ca)\n",
    "        #plt.plot(r, diffusion_3d(r, t_range[i+100]*1000, d_um2_ms, ca[i+100]/N_CA, t0, t0))\n",
    "        #plt.semilogy(r, diffusion_3d(r, t_range[i+10]*1000, d_um2_ms, ca[i+10]/N_CA, t0, t0))\n",
    "\n",
    "\n",
    "plt.xlim(-2, 2)\n",
    "#plt.ylim((0, 0.1))\n",
    "plt.vlines(-0.21, 0, 1, linestyles='--', colors='k')\n",
    "plt.title(\"Spatial distribution of calcium with time\")\n",
    "plt.xlabel(\"Radius, (um)\")\n",
    "plt.ylabel(\"Amount of calcium\")\n",
    "plt.show()\n",
    "\n",
    "\n",
    "\n",
    "\n",
    "#for t in t_range[500:]:\n",
    "#    plt.plot(r, diffusion_3d(r, t*1000, d_um2_ms, ca, t0, t0), label=t)\n",
    "\n",
    "\n",
    "'''\n",
    "# Figure outputs\n",
    "plt.figure()\n",
    "plt.plot(t_range[:-1], k_bind[:-1])\n",
    "plt.savefig(\"k_bind.png\")\n",
    "\n",
    "plt.figure()\n",
    "plt.plot(t_range[:-1], k_unbind[:-1])\n",
    "plt.savefig(\"k_unbind.png\")\n",
    "print(k_unbind)\n",
    "\n",
    "#print(n_per_state, ca)\n",
    "ca = ca / N_CA\n",
    "n_per_state = n_per_state/N_CALB\n",
    "#print(n_per_state)\n",
    "#print(k_bind, k_unbind)\n",
    "\n",
    "#plt.figure()\n",
    "#plt.plot(t_range, ca)\n",
    "\n",
    "#for i in range(n_per_state.shape[1]):\n",
    "#    plt.figure()\n",
    "#    plt.plot(t_range, n_per_state[:,i])\n",
    "\n",
    "plt.show()\n",
    "'''\n"
   ]
  }
 ],
 "metadata": {
  "kernelspec": {
   "display_name": "Python 3",
   "language": "python",
   "name": "python3"
  },
  "language_info": {
   "codemirror_mode": {
    "name": "ipython",
    "version": 3
   },
   "file_extension": ".py",
   "mimetype": "text/x-python",
   "name": "python",
   "nbconvert_exporter": "python",
   "pygments_lexer": "ipython3",
   "version": "3.8.3"
  },
  "varInspector": {
   "cols": {
    "lenName": 16,
    "lenType": 16,
    "lenVar": 40
   },
   "kernels_config": {
    "python": {
     "delete_cmd_postfix": "",
     "delete_cmd_prefix": "del ",
     "library": "var_list.py",
     "varRefreshCmd": "print(var_dic_list())"
    },
    "r": {
     "delete_cmd_postfix": ") ",
     "delete_cmd_prefix": "rm(",
     "library": "var_list.r",
     "varRefreshCmd": "cat(var_dic_list()) "
    }
   },
   "types_to_exclude": [
    "module",
    "function",
    "builtin_function_or_method",
    "instance",
    "_Feature"
   ],
   "window_display": false
  }
 },
 "nbformat": 4,
 "nbformat_minor": 4
}
